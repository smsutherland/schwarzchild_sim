{
 "cells": [
  {
   "cell_type": "code",
   "execution_count": 1,
   "metadata": {},
   "outputs": [],
   "source": [
    "import schwarzchild_sim\n",
    "from schwarzchild_sim import simulate_conditions_rel\n",
    "from schwarzchild_util import plot_orbit, calculate_precession\n",
    "from astropy import units as u"
   ]
  },
  {
   "cell_type": "code",
   "execution_count": null,
   "metadata": {},
   "outputs": [],
   "source": [
    "res = simulate_conditions_rel(\n",
    "    schwarzchild_sim.mercury_orbit,\n",
    "    max_theta=10*2*3.14,\n",
    "    time_step=1e-2,\n",
    "    history_interval=10000000,\n",
    "    version=3\n",
    ")\n",
    "plot_orbit(res)"
   ]
  },
  {
   "cell_type": "code",
   "execution_count": null,
   "metadata": {},
   "outputs": [
    {
     "data": {
      "text/latex": [
       "$43.405426 \\; \\mathrm{\\frac{{}^{\\prime\\prime}}{century}}$"
      ],
      "text/plain": [
       "<Quantity 43.4054259 arcsec / century>"
      ]
     },
     "execution_count": 7,
     "metadata": {},
     "output_type": "execute_result"
    }
   ],
   "source": [
    "calculate_precession(res).to(u.arcsec/u.century)"
   ]
  }
 ],
 "metadata": {
  "kernelspec": {
   "display_name": "Python 3.10.6 ('schwarzchild_sim-wFRgBomq')",
   "language": "python",
   "name": "python3"
  },
  "language_info": {
   "codemirror_mode": {
    "name": "ipython",
    "version": 3
   },
   "file_extension": ".py",
   "mimetype": "text/x-python",
   "name": "python",
   "nbconvert_exporter": "python",
   "pygments_lexer": "ipython3",
   "version": "3.10.6"
  },
  "orig_nbformat": 4,
  "vscode": {
   "interpreter": {
    "hash": "842f4bf1cd4d0665305cac9d13944b4ca070c206213cd91b59de5325e5109266"
   }
  }
 },
 "nbformat": 4,
 "nbformat_minor": 2
}
